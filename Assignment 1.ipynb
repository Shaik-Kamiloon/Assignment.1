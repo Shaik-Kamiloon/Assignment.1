{
 "cells": [
  {
   "cell_type": "markdown",
   "metadata": {},
   "source": [
    "# Finding values of the expressions"
   ]
  },
  {
   "cell_type": "code",
   "execution_count": 1,
   "metadata": {},
   "outputs": [
    {
     "name": "stdout",
     "output_type": "stream",
     "text": [
      "Enter the value: 5\n",
      "The value of the given expression is  0.26785714285714285\n"
     ]
    }
   ],
   "source": [
    "x = int(input(\"Enter the value: \"))\n",
    "d = (2*x+5)/(x**2+5*x+6)\n",
    "print(\"The value of the given expression is \",d)"
   ]
  },
  {
   "cell_type": "code",
   "execution_count": 2,
   "metadata": {},
   "outputs": [
    {
     "name": "stdout",
     "output_type": "stream",
     "text": [
      "Enter the value: 5\n",
      "The value of the given expression is  3.7333333333333334\n"
     ]
    }
   ],
   "source": [
    "x = int(input(\"Enter the value: \"))\n",
    "e = (x**2+5*x+6)/(2*x+5)\n",
    "print(\"The value of the given expression is \",e)"
   ]
  },
  {
   "cell_type": "code",
   "execution_count": 3,
   "metadata": {},
   "outputs": [
    {
     "name": "stdout",
     "output_type": "stream",
     "text": [
      "Enter the value: 5\n",
      "The value of the given expression is  -28\n"
     ]
    }
   ],
   "source": [
    "x = int(input(\"Enter the value: \"))\n",
    "f = (2*x-3)*(x-9)\n",
    "print(\"The value of the given expression is \",f)"
   ]
  },
  {
   "cell_type": "markdown",
   "metadata": {},
   "source": [
    "# Checking Login details"
   ]
  },
  {
   "cell_type": "code",
   "execution_count": 6,
   "metadata": {},
   "outputs": [
    {
     "name": "stdout",
     "output_type": "stream",
     "text": [
      "Enter username: INDIA\n",
      "Enter password: k\n",
      "Your password is incorrect please enter right password\n",
      "Enter password: correct\n",
      "You have logged in successfully\n"
     ]
    }
   ],
   "source": [
    "username=input(\"Enter username: \")\n",
    "warning1=0\n",
    "while(warning1<=5):\n",
    "        if username==\"INDIA\":\n",
    "                warning2=0\n",
    "                password=input(\"Enter password: \")\n",
    "                while(warning2<=5):\n",
    "                    if password==\"correct\":\n",
    "                        print(\"You have logged in successfully\")\n",
    "                        break\n",
    "                    else:\n",
    "                        if(warning2==5):\n",
    "                            print(\"You have exceeded the provided number of chances please try again after 30 minutes\")\n",
    "                            break\n",
    "                        else:\n",
    "                            print(\"Your password is incorrect please enter right password\")\n",
    "                            password=input(\"Enter password: \")\n",
    "                            warning2+=1\n",
    "                break\n",
    "        else:\n",
    "                if(warning1==5):\n",
    "                    print(\"You have exceeded the provided number of chances please try again after 30 minutes\")\n",
    "                    break\n",
    "                else:\n",
    "                    print(\"Your username is incorrect please enter right username\")\n",
    "                    username=input(\"Enter username: \")\n"
   ]
  },
  {
   "cell_type": "code",
   "execution_count": null,
   "metadata": {},
   "outputs": [],
   "source": []
  }
 ],
 "metadata": {
  "kernelspec": {
   "display_name": "Python 3",
   "language": "python",
   "name": "python3"
  },
  "language_info": {
   "codemirror_mode": {
    "name": "ipython",
    "version": 3
   },
   "file_extension": ".py",
   "mimetype": "text/x-python",
   "name": "python",
   "nbconvert_exporter": "python",
   "pygments_lexer": "ipython3",
   "version": "3.8.5"
  }
 },
 "nbformat": 4,
 "nbformat_minor": 4
}
